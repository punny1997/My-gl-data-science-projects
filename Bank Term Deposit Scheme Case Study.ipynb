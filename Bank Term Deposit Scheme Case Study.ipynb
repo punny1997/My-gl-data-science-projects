{
 "cells": [
  {
   "cell_type": "code",
   "execution_count": 155,
   "metadata": {},
   "outputs": [],
   "source": [
    "import numpy as np\n",
    "import pandas as pd\n",
    "from sklearn.model_selection import train_test_split,cross_val_score\n",
    "import seaborn as sns\n",
    "from sklearn.preprocessing import StandardScaler\n",
    "from sklearn.linear_model import LogisticRegression\n",
    "import matplotlib.pyplot as plt\n",
    "from sklearn.metrics import accuracy_score,roc_auc_score,roc_curve,f1_score,confusion_matrix,classification_report\n",
    "from sklearn.tree import DecisionTreeClassifier\n",
    "from sklearn.ensemble import RandomForestClassifier,AdaBoostClassifier,GradientBoostingClassifier,VotingClassifier,BaggingClassifier,StackingClassifier\n",
    "from xgboost import XGBClassifier"
   ]
  },
  {
   "cell_type": "code",
   "execution_count": 103,
   "metadata": {},
   "outputs": [
    {
     "name": "stdout",
     "output_type": "stream",
     "text": [
      "Collecting XGBoost\n",
      "  Downloading xgboost-1.5.0-py3-none-win_amd64.whl (106.6 MB)\n",
      "Requirement already satisfied: numpy in c:\\users\\admin\\anaconda3\\lib\\site-packages (from XGBoost) (1.19.2)\n",
      "Requirement already satisfied: scipy in c:\\users\\admin\\anaconda3\\lib\\site-packages (from XGBoost) (1.5.2)\n",
      "Installing collected packages: XGBoost\n",
      "Successfully installed XGBoost-1.5.0\n",
      "Requirement already satisfied: xgboost in c:\\users\\admin\\anaconda3\\lib\\site-packages (1.5.0)\n",
      "Requirement already satisfied: numpy in c:\\users\\admin\\anaconda3\\lib\\site-packages (from xgboost) (1.19.2)\n",
      "Requirement already satisfied: scipy in c:\\users\\admin\\anaconda3\\lib\\site-packages (from xgboost) (1.5.2)\n"
     ]
    }
   ],
   "source": [
    "!pip install xgboost"
   ]
  },
  {
   "cell_type": "code",
   "execution_count": 51,
   "metadata": {},
   "outputs": [],
   "source": [
    "df=pd.read_csv('Training_Dataset_Time_Deposit - Sheet1.csv')"
   ]
  },
  {
   "cell_type": "code",
   "execution_count": 3,
   "metadata": {},
   "outputs": [
    {
     "data": {
      "text/html": [
       "<div>\n",
       "<style scoped>\n",
       "    .dataframe tbody tr th:only-of-type {\n",
       "        vertical-align: middle;\n",
       "    }\n",
       "\n",
       "    .dataframe tbody tr th {\n",
       "        vertical-align: top;\n",
       "    }\n",
       "\n",
       "    .dataframe thead th {\n",
       "        text-align: right;\n",
       "    }\n",
       "</style>\n",
       "<table border=\"1\" class=\"dataframe\">\n",
       "  <thead>\n",
       "    <tr style=\"text-align: right;\">\n",
       "      <th></th>\n",
       "      <th>key</th>\n",
       "      <th>age</th>\n",
       "      <th>job</th>\n",
       "      <th>marital</th>\n",
       "      <th>education</th>\n",
       "      <th>default</th>\n",
       "      <th>housing</th>\n",
       "      <th>loan</th>\n",
       "      <th>contact</th>\n",
       "      <th>month</th>\n",
       "      <th>...</th>\n",
       "      <th>campaign</th>\n",
       "      <th>pdays</th>\n",
       "      <th>previous</th>\n",
       "      <th>poutcome</th>\n",
       "      <th>emp.var.rate</th>\n",
       "      <th>cons.price.idx</th>\n",
       "      <th>cons.conf.idx</th>\n",
       "      <th>euribor3m</th>\n",
       "      <th>nr.employed</th>\n",
       "      <th>y</th>\n",
       "    </tr>\n",
       "  </thead>\n",
       "  <tbody>\n",
       "    <tr>\n",
       "      <th>0</th>\n",
       "      <td>444</td>\n",
       "      <td>45</td>\n",
       "      <td>management</td>\n",
       "      <td>married</td>\n",
       "      <td>university.degree</td>\n",
       "      <td>no</td>\n",
       "      <td>yes</td>\n",
       "      <td>no</td>\n",
       "      <td>telephone</td>\n",
       "      <td>may</td>\n",
       "      <td>...</td>\n",
       "      <td>1</td>\n",
       "      <td>999</td>\n",
       "      <td>0</td>\n",
       "      <td>nonexistent</td>\n",
       "      <td>1.1</td>\n",
       "      <td>93.994</td>\n",
       "      <td>-36.4</td>\n",
       "      <td>4.857</td>\n",
       "      <td>5191.0</td>\n",
       "      <td>no</td>\n",
       "    </tr>\n",
       "    <tr>\n",
       "      <th>1</th>\n",
       "      <td>445</td>\n",
       "      <td>34</td>\n",
       "      <td>admin.</td>\n",
       "      <td>married</td>\n",
       "      <td>basic.9y</td>\n",
       "      <td>no</td>\n",
       "      <td>no</td>\n",
       "      <td>no</td>\n",
       "      <td>telephone</td>\n",
       "      <td>may</td>\n",
       "      <td>...</td>\n",
       "      <td>1</td>\n",
       "      <td>999</td>\n",
       "      <td>0</td>\n",
       "      <td>nonexistent</td>\n",
       "      <td>1.1</td>\n",
       "      <td>93.994</td>\n",
       "      <td>-36.4</td>\n",
       "      <td>4.857</td>\n",
       "      <td>5191.0</td>\n",
       "      <td>no</td>\n",
       "    </tr>\n",
       "    <tr>\n",
       "      <th>2</th>\n",
       "      <td>446</td>\n",
       "      <td>47</td>\n",
       "      <td>blue-collar</td>\n",
       "      <td>married</td>\n",
       "      <td>unknown</td>\n",
       "      <td>unknown</td>\n",
       "      <td>no</td>\n",
       "      <td>no</td>\n",
       "      <td>telephone</td>\n",
       "      <td>may</td>\n",
       "      <td>...</td>\n",
       "      <td>1</td>\n",
       "      <td>999</td>\n",
       "      <td>0</td>\n",
       "      <td>nonexistent</td>\n",
       "      <td>1.1</td>\n",
       "      <td>93.994</td>\n",
       "      <td>-36.4</td>\n",
       "      <td>4.857</td>\n",
       "      <td>5191.0</td>\n",
       "      <td>no</td>\n",
       "    </tr>\n",
       "    <tr>\n",
       "      <th>3</th>\n",
       "      <td>447</td>\n",
       "      <td>42</td>\n",
       "      <td>technician</td>\n",
       "      <td>married</td>\n",
       "      <td>professional.course</td>\n",
       "      <td>no</td>\n",
       "      <td>no</td>\n",
       "      <td>no</td>\n",
       "      <td>telephone</td>\n",
       "      <td>may</td>\n",
       "      <td>...</td>\n",
       "      <td>1</td>\n",
       "      <td>999</td>\n",
       "      <td>0</td>\n",
       "      <td>nonexistent</td>\n",
       "      <td>1.1</td>\n",
       "      <td>93.994</td>\n",
       "      <td>-36.4</td>\n",
       "      <td>4.857</td>\n",
       "      <td>5191.0</td>\n",
       "      <td>yes</td>\n",
       "    </tr>\n",
       "    <tr>\n",
       "      <th>4</th>\n",
       "      <td>448</td>\n",
       "      <td>57</td>\n",
       "      <td>technician</td>\n",
       "      <td>married</td>\n",
       "      <td>basic.4y</td>\n",
       "      <td>unknown</td>\n",
       "      <td>no</td>\n",
       "      <td>yes</td>\n",
       "      <td>telephone</td>\n",
       "      <td>may</td>\n",
       "      <td>...</td>\n",
       "      <td>1</td>\n",
       "      <td>999</td>\n",
       "      <td>0</td>\n",
       "      <td>nonexistent</td>\n",
       "      <td>1.1</td>\n",
       "      <td>93.994</td>\n",
       "      <td>-36.4</td>\n",
       "      <td>4.857</td>\n",
       "      <td>5191.0</td>\n",
       "      <td>no</td>\n",
       "    </tr>\n",
       "  </tbody>\n",
       "</table>\n",
       "<p>5 rows × 22 columns</p>\n",
       "</div>"
      ],
      "text/plain": [
       "   key  age          job  marital            education  default housing loan  \\\n",
       "0  444   45   management  married    university.degree       no     yes   no   \n",
       "1  445   34       admin.  married             basic.9y       no      no   no   \n",
       "2  446   47  blue-collar  married              unknown  unknown      no   no   \n",
       "3  447   42   technician  married  professional.course       no      no   no   \n",
       "4  448   57   technician  married             basic.4y  unknown      no  yes   \n",
       "\n",
       "     contact month  ... campaign  pdays  previous     poutcome  emp.var.rate  \\\n",
       "0  telephone   may  ...        1    999         0  nonexistent           1.1   \n",
       "1  telephone   may  ...        1    999         0  nonexistent           1.1   \n",
       "2  telephone   may  ...        1    999         0  nonexistent           1.1   \n",
       "3  telephone   may  ...        1    999         0  nonexistent           1.1   \n",
       "4  telephone   may  ...        1    999         0  nonexistent           1.1   \n",
       "\n",
       "  cons.price.idx  cons.conf.idx  euribor3m  nr.employed    y  \n",
       "0         93.994          -36.4      4.857       5191.0   no  \n",
       "1         93.994          -36.4      4.857       5191.0   no  \n",
       "2         93.994          -36.4      4.857       5191.0   no  \n",
       "3         93.994          -36.4      4.857       5191.0  yes  \n",
       "4         93.994          -36.4      4.857       5191.0   no  \n",
       "\n",
       "[5 rows x 22 columns]"
      ]
     },
     "execution_count": 3,
     "metadata": {},
     "output_type": "execute_result"
    }
   ],
   "source": [
    "df.head()"
   ]
  },
  {
   "cell_type": "code",
   "execution_count": 52,
   "metadata": {},
   "outputs": [],
   "source": [
    "df_num=df.select_dtypes(include=np.number)\n",
    "df_cat=df.select_dtypes(include=object)"
   ]
  },
  {
   "cell_type": "code",
   "execution_count": 53,
   "metadata": {},
   "outputs": [
    {
     "name": "stderr",
     "output_type": "stream",
     "text": [
      "<ipython-input-53-4a3cdd577693>:2: SettingWithCopyWarning: \n",
      "A value is trying to be set on a copy of a slice from a DataFrame.\n",
      "Try using .loc[row_indexer,col_indexer] = value instead\n",
      "\n",
      "See the caveats in the documentation: https://pandas.pydata.org/pandas-docs/stable/user_guide/indexing.html#returning-a-view-versus-a-copy\n",
      "  df_cat[i]=df_cat[i].replace(['unknown'],np.nan)\n"
     ]
    }
   ],
   "source": [
    "for i in df_cat.columns:\n",
    "    df_cat[i]=df_cat[i].replace(['unknown'],np.nan)"
   ]
  },
  {
   "cell_type": "code",
   "execution_count": 15,
   "metadata": {},
   "outputs": [
    {
     "data": {
      "text/plain": [
       "job            0.0\n",
       "marital        0.0\n",
       "education      0.0\n",
       "default        0.0\n",
       "housing        0.0\n",
       "loan           0.0\n",
       "contact        0.0\n",
       "month          0.0\n",
       "day_of_week    0.0\n",
       "poutcome       0.0\n",
       "y              0.0\n",
       "dtype: float64"
      ]
     },
     "execution_count": 15,
     "metadata": {},
     "output_type": "execute_result"
    }
   ],
   "source": [
    "df_cat.isnull().sum()/len(df_cat)*100"
   ]
  },
  {
   "cell_type": "code",
   "execution_count": 54,
   "metadata": {},
   "outputs": [
    {
     "name": "stderr",
     "output_type": "stream",
     "text": [
      "<ipython-input-54-94b43da98e86>:2: SettingWithCopyWarning: \n",
      "A value is trying to be set on a copy of a slice from a DataFrame.\n",
      "Try using .loc[row_indexer,col_indexer] = value instead\n",
      "\n",
      "See the caveats in the documentation: https://pandas.pydata.org/pandas-docs/stable/user_guide/indexing.html#returning-a-view-versus-a-copy\n",
      "  df_cat[i]=df_cat[i].replace(np.nan,df_cat[i].mode()[0])\n"
     ]
    }
   ],
   "source": [
    "for i in df_cat.columns:\n",
    "    df_cat[i]=df_cat[i].replace(np.nan,df_cat[i].mode()[0])"
   ]
  },
  {
   "cell_type": "code",
   "execution_count": 5,
   "metadata": {},
   "outputs": [
    {
     "data": {
      "text/plain": [
       "no     0.955635\n",
       "yes    0.044365\n",
       "Name: y, dtype: float64"
      ]
     },
     "execution_count": 5,
     "metadata": {},
     "output_type": "execute_result"
    }
   ],
   "source": [
    "df['y'].value_counts(normalize=True)"
   ]
  },
  {
   "cell_type": "code",
   "execution_count": 21,
   "metadata": {},
   "outputs": [
    {
     "data": {
      "text/plain": [
       "<AxesSubplot:>"
      ]
     },
     "execution_count": 21,
     "metadata": {},
     "output_type": "execute_result"
    },
    {
     "data": {
      "image/png": "[encoded data removed]",
      "text/plain": [
       "<Figure size 720x504 with 2 Axes>"
      ]
     },
     "metadata": {
      "needs_background": "light"
     },
     "output_type": "display_data"
    }
   ],
   "source": [
    "plt.figure(figsize=(10,7))\n",
    "sns.heatmap(df_num.corr(),annot=True)"
   ]
  },
  {
   "cell_type": "code",
   "execution_count": 31,
   "metadata": {},
   "outputs": [
    {
     "data": {
      "text/plain": [
       "no    2358\n",
       "Name: y, dtype: int64"
      ]
     },
     "execution_count": 31,
     "metadata": {},
     "output_type": "execute_result"
    }
   ],
   "source": [
    "df[df['duration']<182]['y'].value_counts()"
   ]
  },
  {
   "cell_type": "code",
   "execution_count": 23,
   "metadata": {},
   "outputs": [
    {
     "name": "stderr",
     "output_type": "stream",
     "text": [
      "C:\\Users\\admin\\anaconda3\\lib\\site-packages\\seaborn\\_decorators.py:36: FutureWarning: Pass the following variable as a keyword arg: x. From version 0.12, the only valid positional argument will be `data`, and passing other arguments without an explicit keyword will result in an error or misinterpretation.\n",
      "  warnings.warn(\n"
     ]
    },
    {
     "data": {
      "image/png": "[encoded data removed]",
      "text/plain": [
       "<Figure size 432x288 with 1 Axes>"
      ]
     },
     "metadata": {
      "needs_background": "light"
     },
     "output_type": "display_data"
    },
    {
     "name": "stderr",
     "output_type": "stream",
     "text": [
      "C:\\Users\\admin\\anaconda3\\lib\\site-packages\\seaborn\\_decorators.py:36: FutureWarning: Pass the following variable as a keyword arg: x. From version 0.12, the only valid positional argument will be `data`, and passing other arguments without an explicit keyword will result in an error or misinterpretation.\n",
      "  warnings.warn(\n"
     ]
    },
    {
     "data": {
      "image/png": "[encoded data removed]",
      "text/plain": [
       "<Figure size 432x288 with 1 Axes>"
      ]
     },
     "metadata": {
      "needs_background": "light"
     },
     "output_type": "display_data"
    },
    {
     "name": "stderr",
     "output_type": "stream",
     "text": [
      "C:\\Users\\admin\\anaconda3\\lib\\site-packages\\seaborn\\_decorators.py:36: FutureWarning: Pass the following variable as a keyword arg: x. From version 0.12, the only valid positional argument will be `data`, and passing other arguments without an explicit keyword will result in an error or misinterpretation.\n",
      "  warnings.warn(\n"
     ]
    },
    {
     "data": {
      "image/png": "[encoded data removed]",
      "text/plain": [
       "<Figure size 432x288 with 1 Axes>"
      ]
     },
     "metadata": {
      "needs_background": "light"
     },
     "output_type": "display_data"
    },
    {
     "name": "stderr",
     "output_type": "stream",
     "text": [
      "C:\\Users\\admin\\anaconda3\\lib\\site-packages\\seaborn\\_decorators.py:36: FutureWarning: Pass the following variable as a keyword arg: x. From version 0.12, the only valid positional argument will be `data`, and passing other arguments without an explicit keyword will result in an error or misinterpretation.\n",
      "  warnings.warn(\n"
     ]
    },
    {
     "data": {
      "image/png": "[encoded data removed]",
      "text/plain": [
       "<Figure size 432x288 with 1 Axes>"
      ]
     },
     "metadata": {
      "needs_background": "light"
     },
     "output_type": "display_data"
    },
    {
     "name": "stderr",
     "output_type": "stream",
     "text": [
      "C:\\Users\\admin\\anaconda3\\lib\\site-packages\\seaborn\\_decorators.py:36: FutureWarning: Pass the following variable as a keyword arg: x. From version 0.12, the only valid positional argument will be `data`, and passing other arguments without an explicit keyword will result in an error or misinterpretation.\n",
      "  warnings.warn(\n"
     ]
    },
    {
     "data": {
      "image/png": "[encoded data removed]",
      "text/plain": [
       "<Figure size 432x288 with 1 Axes>"
      ]
     },
     "metadata": {
      "needs_background": "light"
     },
     "output_type": "display_data"
    },
    {
     "name": "stderr",
     "output_type": "stream",
     "text": [
      "C:\\Users\\admin\\anaconda3\\lib\\site-packages\\seaborn\\_decorators.py:36: FutureWarning: Pass the following variable as a keyword arg: x. From version 0.12, the only valid positional argument will be `data`, and passing other arguments without an explicit keyword will result in an error or misinterpretation.\n",
      "  warnings.warn(\n"
     ]
    },
    {
     "data": {
      "image/png": "[encoded data removed]",
      "text/plain": [
       "<Figure size 432x288 with 1 Axes>"
      ]
     },
     "metadata": {
      "needs_background": "light"
     },
     "output_type": "display_data"
    },
    {
     "name": "stderr",
     "output_type": "stream",
     "text": [
      "C:\\Users\\admin\\anaconda3\\lib\\site-packages\\seaborn\\_decorators.py:36: FutureWarning: Pass the following variable as a keyword arg: x. From version 0.12, the only valid positional argument will be `data`, and passing other arguments without an explicit keyword will result in an error or misinterpretation.\n",
      "  warnings.warn(\n"
     ]
    },
    {
     "data": {
      "image/png": "[encoded data removed]",
      "text/plain": [
       "<Figure size 432x288 with 1 Axes>"
      ]
     },
     "metadata": {
      "needs_background": "light"
     },
     "output_type": "display_data"
    },
    {
     "name": "stderr",
     "output_type": "stream",
     "text": [
      "C:\\Users\\admin\\anaconda3\\lib\\site-packages\\seaborn\\_decorators.py:36: FutureWarning: Pass the following variable as a keyword arg: x. From version 0.12, the only valid positional argument will be `data`, and passing other arguments without an explicit keyword will result in an error or misinterpretation.\n",
      "  warnings.warn(\n"
     ]
    },
    {
     "data": {
      "image/png": "[encoded data removed]",
      "text/plain": [
       "<Figure size 432x288 with 1 Axes>"
      ]
     },
     "metadata": {
      "needs_background": "light"
     },
     "output_type": "display_data"
    },
    {
     "name": "stderr",
     "output_type": "stream",
     "text": [
      "C:\\Users\\admin\\anaconda3\\lib\\site-packages\\seaborn\\_decorators.py:36: FutureWarning: Pass the following variable as a keyword arg: x. From version 0.12, the only valid positional argument will be `data`, and passing other arguments without an explicit keyword will result in an error or misinterpretation.\n",
      "  warnings.warn(\n"
     ]
    },
    {
     "data": {
      "image/png": "[encoded data removed]",
      "text/plain": [
       "<Figure size 432x288 with 1 Axes>"
      ]
     },
     "metadata": {
      "needs_background": "light"
     },
     "output_type": "display_data"
    },
    {
     "name": "stderr",
     "output_type": "stream",
     "text": [
      "C:\\Users\\admin\\anaconda3\\lib\\site-packages\\seaborn\\_decorators.py:36: FutureWarning: Pass the following variable as a keyword arg: x. From version 0.12, the only valid positional argument will be `data`, and passing other arguments without an explicit keyword will result in an error or misinterpretation.\n",
      "  warnings.warn(\n"
     ]
    },
    {
     "data": {
      "image/png": "[encoded data removed]",
      "text/plain": [
       "<Figure size 432x288 with 1 Axes>"
      ]
     },
     "metadata": {
      "needs_background": "light"
     },
     "output_type": "display_data"
    },
    {
     "name": "stderr",
     "output_type": "stream",
     "text": [
      "C:\\Users\\admin\\anaconda3\\lib\\site-packages\\seaborn\\_decorators.py:36: FutureWarning: Pass the following variable as a keyword arg: x. From version 0.12, the only valid positional argument will be `data`, and passing other arguments without an explicit keyword will result in an error or misinterpretation.\n",
      "  warnings.warn(\n"
     ]
    },
    {
     "data": {
      "image/png": "[encoded data removed]",
      "text/plain": [
       "<Figure size 432x288 with 1 Axes>"
      ]
     },
     "metadata": {
      "needs_background": "light"
     },
     "output_type": "display_data"
    }
   ],
   "source": [
    "for i in df_num.columns:\n",
    "    sns.boxplot(df_num[i])\n",
    "    plt.show()"
   ]
  },
  {
   "cell_type": "code",
   "execution_count": 32,
   "metadata": {},
   "outputs": [],
   "source": [
    "y=df['y']\n",
    "y=y.replace(['yes','no'],[1,0])"
   ]
  },
  {
   "cell_type": "code",
   "execution_count": 33,
   "metadata": {},
   "outputs": [
    {
     "data": {
      "text/plain": [
       "0       0\n",
       "1       0\n",
       "2       0\n",
       "3       1\n",
       "4       0\n",
       "       ..\n",
       "4165    0\n",
       "4166    0\n",
       "4167    0\n",
       "4168    0\n",
       "4169    0\n",
       "Name: y, Length: 4170, dtype: int64"
      ]
     },
     "execution_count": 33,
     "metadata": {},
     "output_type": "execute_result"
    }
   ],
   "source": [
    "y"
   ]
  },
  {
   "cell_type": "code",
   "execution_count": null,
   "metadata": {},
   "outputs": [],
   "source": [
    "Encoding"
   ]
  },
  {
   "cell_type": "code",
   "execution_count": 55,
   "metadata": {},
   "outputs": [
    {
     "data": {
      "text/plain": [
       "Index(['job', 'marital', 'education', 'default', 'housing', 'loan', 'contact',\n",
       "       'month', 'day_of_week', 'poutcome', 'y', 'key', 'age', 'duration',\n",
       "       'campaign', 'pdays', 'previous', 'emp.var.rate', 'cons.price.idx',\n",
       "       'cons.conf.idx', 'euribor3m', 'nr.employed'],\n",
       "      dtype='object')"
      ]
     },
     "execution_count": 55,
     "metadata": {},
     "output_type": "execute_result"
    }
   ],
   "source": [
    "df=pd.concat([df_cat,df_num],axis=1)\n",
    "df.columns"
   ]
  },
  {
   "cell_type": "code",
   "execution_count": 56,
   "metadata": {},
   "outputs": [],
   "source": [
    "y=df['y']\n",
    "y=y.replace(['yes','no'],[1,0])\n",
    "df.set_index(['key'],inplace=True)\n",
    "X=df.drop(['y','default'],axis=1)"
   ]
  },
  {
   "cell_type": "code",
   "execution_count": 57,
   "metadata": {},
   "outputs": [
    {
     "data": {
      "text/plain": [
       "(4170, 39)"
      ]
     },
     "execution_count": 57,
     "metadata": {},
     "output_type": "execute_result"
    }
   ],
   "source": [
    "X=pd.get_dummies(X,drop_first=True)\n",
    "X.shape"
   ]
  },
  {
   "cell_type": "code",
   "execution_count": 58,
   "metadata": {},
   "outputs": [],
   "source": [
    "# split into 70:30 ration \n",
    "X_train, X_test, y_train, y_test = train_test_split(X, y, test_size = 0.3, random_state = 0) "
   ]
  },
  {
   "cell_type": "code",
   "execution_count": 59,
   "metadata": {},
   "outputs": [],
   "source": [
    "sc=StandardScaler()\n",
    "X_train_sc=pd.DataFrame(sc.fit_transform(X_train),columns=X_train.columns)\n",
    "X_test_sc=pd.DataFrame(sc.transform(X_test),columns=X_test.columns)"
   ]
  },
  {
   "cell_type": "code",
   "execution_count": null,
   "metadata": {},
   "outputs": [],
   "source": [
    "SMOTE :  increase the number of observations in your Minority CLASs ( Yes)\n",
    "      \n",
    "        Synthetic Minority Oversampling Technique\n",
    "        !pip install imblearn"
   ]
  },
  {
   "cell_type": "code",
   "execution_count": 61,
   "metadata": {},
   "outputs": [],
   "source": [
    "from imblearn.over_sampling import SMOTE\n",
    "from imblearn.under_sampling import NearMiss"
   ]
  },
  {
   "cell_type": "code",
   "execution_count": 62,
   "metadata": {},
   "outputs": [],
   "source": [
    "smt = SMOTE(random_state = 2) "
   ]
  },
  {
   "cell_type": "code",
   "execution_count": 63,
   "metadata": {},
   "outputs": [],
   "source": [
    "X_train_smt, y_train_smt = smt.fit_resample(X_train_sc,y_train) "
   ]
  },
  {
   "cell_type": "code",
   "execution_count": 64,
   "metadata": {},
   "outputs": [
    {
     "data": {
      "text/plain": [
       "(5586, 39)"
      ]
     },
     "execution_count": 64,
     "metadata": {},
     "output_type": "execute_result"
    }
   ],
   "source": [
    "X_train_smt.shape"
   ]
  },
  {
   "cell_type": "code",
   "execution_count": 65,
   "metadata": {},
   "outputs": [
    {
     "data": {
      "text/plain": [
       "(2919, 39)"
      ]
     },
     "execution_count": 65,
     "metadata": {},
     "output_type": "execute_result"
    }
   ],
   "source": [
    "X_train_sc.shape"
   ]
  },
  {
   "cell_type": "code",
   "execution_count": 66,
   "metadata": {},
   "outputs": [
    {
     "data": {
      "text/plain": [
       "1    2793\n",
       "0    2793\n",
       "Name: y, dtype: int64"
      ]
     },
     "execution_count": 66,
     "metadata": {},
     "output_type": "execute_result"
    }
   ],
   "source": [
    "y_train_smt.value_counts()"
   ]
  },
  {
   "cell_type": "code",
   "execution_count": 67,
   "metadata": {},
   "outputs": [
    {
     "data": {
      "text/plain": [
       "0    2793\n",
       "1     126\n",
       "Name: y, dtype: int64"
      ]
     },
     "execution_count": 67,
     "metadata": {},
     "output_type": "execute_result"
    }
   ],
   "source": [
    "y_train.value_counts()"
   ]
  },
  {
   "cell_type": "code",
   "execution_count": 91,
   "metadata": {},
   "outputs": [
    {
     "data": {
      "text/plain": [
       "0.9527389903329753"
      ]
     },
     "execution_count": 91,
     "metadata": {},
     "output_type": "execute_result"
    }
   ],
   "source": [
    "# TRAINING ON SMOTE DATA\n",
    "LR=LogisticRegression()\n",
    "LR_model=LR.fit(X_train_smt,y_train_smt)\n",
    "y_pred=LR_model.predict(X_train_smt)\n",
    "accuracy_score(y_train_smt,y_pred)"
   ]
  },
  {
   "cell_type": "code",
   "execution_count": 92,
   "metadata": {},
   "outputs": [
    {
     "data": {
      "text/plain": [
       "0.9344524380495604"
      ]
     },
     "execution_count": 92,
     "metadata": {},
     "output_type": "execute_result"
    }
   ],
   "source": [
    " # Prediction on Test Data using SMOTE TRAINED MODEL\n",
    "y_pred=LR_model.predict(X_test_sc)\n",
    "accuracy_score(y_test,y_pred)"
   ]
  },
  {
   "cell_type": "code",
   "execution_count": 85,
   "metadata": {},
   "outputs": [
    {
     "name": "stdout",
     "output_type": "stream",
     "text": [
      "              precision    recall  f1-score   support\n",
      "\n",
      "           0       0.99      0.94      0.96      1192\n",
      "           1       0.40      0.81      0.54        59\n",
      "\n",
      "    accuracy                           0.93      1251\n",
      "   macro avg       0.70      0.88      0.75      1251\n",
      "weighted avg       0.96      0.93      0.94      1251\n",
      "\n"
     ]
    }
   ],
   "source": [
    "print(classification_report(y_test,y_pred))"
   ]
  },
  {
   "cell_type": "code",
   "execution_count": 93,
   "metadata": {},
   "outputs": [
    {
     "name": "stdout",
     "output_type": "stream",
     "text": [
      "FP 71\n",
      "FN 11\n"
     ]
    }
   ],
   "source": [
    "tn, fp, fn, tp=confusion_matrix(y_test,y_pred).ravel()\n",
    "print(\"FP\",fp)\n",
    "print(\"FN\",fn)"
   ]
  },
  {
   "cell_type": "code",
   "execution_count": 106,
   "metadata": {},
   "outputs": [
    {
     "data": {
      "text/plain": [
       "0.9664268585131894"
      ]
     },
     "execution_count": 106,
     "metadata": {},
     "output_type": "execute_result"
    }
   ],
   "source": [
    "# Training on Original Data\n",
    "LR=LogisticRegression()\n",
    "LR_model=LR.fit(X_train_sc,y_train)\n",
    "y_pred=LR_model.predict(X_train_sc)\n",
    "accuracy_score(y_train,y_pred)"
   ]
  },
  {
   "cell_type": "code",
   "execution_count": 107,
   "metadata": {},
   "outputs": [
    {
     "data": {
      "text/plain": [
       "0.9616306954436451"
      ]
     },
     "execution_count": 107,
     "metadata": {},
     "output_type": "execute_result"
    }
   ],
   "source": [
    "#PREDICTION ON TEST DATA using ORIGINAL TRAINED DATA\n",
    "y_pred=LR_model.predict(X_test_sc)\n",
    "accuracy_score(y_test,y_pred)"
   ]
  },
  {
   "cell_type": "code",
   "execution_count": 123,
   "metadata": {},
   "outputs": [
    {
     "data": {
      "text/plain": [
       "array([[0., 1.],\n",
       "       [0., 1.],\n",
       "       [0., 1.],\n",
       "       ...,\n",
       "       [0., 1.],\n",
       "       [0., 1.],\n",
       "       [0., 1.]])"
      ]
     },
     "execution_count": 123,
     "metadata": {},
     "output_type": "execute_result"
    }
   ],
   "source": [
    "y_pred_proba=LR_model.predict_proba(X_train)\n",
    "y_pred_proba"
   ]
  },
  {
   "cell_type": "code",
   "execution_count": 122,
   "metadata": {},
   "outputs": [
    {
     "data": {
      "text/plain": [
       "array([[0., 1.],\n",
       "       [0., 1.],\n",
       "       [0., 1.],\n",
       "       ...,\n",
       "       [0., 1.],\n",
       "       [0., 1.],\n",
       "       [0., 1.]])"
      ]
     },
     "execution_count": 122,
     "metadata": {},
     "output_type": "execute_result"
    }
   ],
   "source": [
    "y_pred_proba=LR_model.predict_proba(X_test)\n",
    "y_pred_proba"
   ]
  },
  {
   "cell_type": "code",
   "execution_count": 111,
   "metadata": {},
   "outputs": [
    {
     "data": {
      "text/plain": [
       "array([1., 1., 1., ..., 1., 1., 1.])"
      ]
     },
     "execution_count": 111,
     "metadata": {},
     "output_type": "execute_result"
    }
   ],
   "source": [
    "y_pred_proba=LR_model.predict_proba(X_test)\n",
    "y_pred_proba[:,1]"
   ]
  },
  {
   "cell_type": "code",
   "execution_count": 1,
   "metadata": {},
   "outputs": [
    {
     "ename": "NameError",
     "evalue": "name 'X' is not defined",
     "output_type": "error",
     "traceback": [
      "\u001b[1;31m---------------------------------------------------------------------------\u001b[0m",
      "\u001b[1;31mNameError\u001b[0m                                 Traceback (most recent call last)",
      "\u001b[1;32m~\\AppData\\Local\\Temp/ipykernel_19568/1051100475.py\u001b[0m in \u001b[0;36m<module>\u001b[1;34m\u001b[0m\n\u001b[0;32m      1\u001b[0m \u001b[1;32mfrom\u001b[0m \u001b[0msklearn\u001b[0m\u001b[1;33m.\u001b[0m\u001b[0mmodel_selection\u001b[0m \u001b[1;32mimport\u001b[0m \u001b[0mtrain_test_split\u001b[0m\u001b[1;33m\u001b[0m\u001b[1;33m\u001b[0m\u001b[0m\n\u001b[1;32m----> 2\u001b[1;33m \u001b[0mX_train\u001b[0m\u001b[1;33m,\u001b[0m \u001b[0mX_test\u001b[0m\u001b[1;33m,\u001b[0m \u001b[0my_train\u001b[0m\u001b[1;33m,\u001b[0m \u001b[0my_test\u001b[0m \u001b[1;33m=\u001b[0m \u001b[0mtrain_test_split\u001b[0m\u001b[1;33m(\u001b[0m\u001b[0mX\u001b[0m\u001b[1;33m,\u001b[0m \u001b[0my\u001b[0m\u001b[1;33m,\u001b[0m \u001b[0mtest_size\u001b[0m \u001b[1;33m=\u001b[0m \u001b[1;36m0.3\u001b[0m\u001b[1;33m,\u001b[0m \u001b[0mrandom_state\u001b[0m \u001b[1;33m=\u001b[0m \u001b[1;36m0\u001b[0m\u001b[1;33m)\u001b[0m\u001b[1;33m\u001b[0m\u001b[1;33m\u001b[0m\u001b[0m\n\u001b[0m",
      "\u001b[1;31mNameError\u001b[0m: name 'X' is not defined"
     ]
    }
   ],
   "source": [
    "from sklearn.model_selection import train_test_split\n",
    "X_train, X_test, y_train, y_test = train_test_split(X, y, test_size = 0.3, random_state = 0) "
   ]
  },
  {
   "cell_type": "code",
   "execution_count": 89,
   "metadata": {},
   "outputs": [
    {
     "name": "stdout",
     "output_type": "stream",
     "text": [
      "              precision    recall  f1-score   support\n",
      "\n",
      "           0       0.97      0.99      0.98      1192\n",
      "           1       0.67      0.37      0.48        59\n",
      "\n",
      "    accuracy                           0.96      1251\n",
      "   macro avg       0.82      0.68      0.73      1251\n",
      "weighted avg       0.96      0.96      0.96      1251\n",
      "\n"
     ]
    }
   ],
   "source": [
    "print(classification_report(y_test,y_pred))"
   ]
  },
  {
   "cell_type": "code",
   "execution_count": 96,
   "metadata": {},
   "outputs": [
    {
     "name": "stdout",
     "output_type": "stream",
     "text": [
      "FP 11\n",
      "FN 37\n"
     ]
    }
   ],
   "source": [
    "tn, fp, fn, tp=confusion_matrix(y_test,y_pred).ravel()\n",
    "print(\"FP\",fp)\n",
    "print(\"FN\",fn)"
   ]
  },
  {
   "cell_type": "code",
   "execution_count": null,
   "metadata": {},
   "outputs": [],
   "source": [
    "# Build a function\n",
    "# To pass your model, train it, check confusion Matrix, classification report and auc_roc_score"
   ]
  },
  {
   "cell_type": "code",
   "execution_count": 137,
   "metadata": {},
   "outputs": [],
   "source": [
    "def build_model(model,X_train,y_train,X_test,y_test):\n",
    "    model=model.fit(X_train,y_train)\n",
    "    y_pred_train=model.predict(X_train)\n",
    "    print(\"Results on Train Data \\n\")\n",
    "    print(\"Accuracy Score on Train Data\",accuracy_score(y_train,y_pred_train),\"\\n\")\n",
    "    print(classification_report(y_train,y_pred_train),\"\\n\")\n",
    "    y_pred_proba_train=model.predict_proba(X_train)\n",
    "    print(\"Roc_Score\",roc_auc_score(y_train,y_pred_proba_train[:,1]),\"\\n\")\n",
    "    print(\"\\n Confusion Matrix \\n\",confusion_matrix(y_train,y_pred_train),\"\\n\")\n",
    "    \n",
    "    print(\"Results on Test Data \\n\")\n",
    "    y_pred_test=model.predict(X_test)\n",
    "    print(\"Accuracy Score on Test Data\",accuracy_score(y_test,y_pred_test),\"\\n\")\n",
    "    print(classification_report(y_test,y_pred_test),\"\\n\")\n",
    "    y_pred_proba_test=model.predict_proba(X_test)\n",
    "    print(\"Roc_Score\",roc_auc_score(y_test,y_pred_proba_test[:,1]),\"\\n\")\n",
    "    print(\"\\n Confusion Matrix \\n\",confusion_matrix(y_test,y_pred_test),\"\\n\")"
   ]
  },
  {
   "cell_type": "code",
   "execution_count": 129,
   "metadata": {},
   "outputs": [
    {
     "name": "stdout",
     "output_type": "stream",
     "text": [
      "Results on Train Data \n",
      "\n",
      "Accuracy Score on Test Data 1.0 \n",
      "\n",
      "              precision    recall  f1-score   support\n",
      "\n",
      "           0       1.00      1.00      1.00      2793\n",
      "           1       1.00      1.00      1.00       126\n",
      "\n",
      "    accuracy                           1.00      2919\n",
      "   macro avg       1.00      1.00      1.00      2919\n",
      "weighted avg       1.00      1.00      1.00      2919\n",
      " \n",
      "\n",
      "Roc_Score 1.0 \n",
      "\n",
      "\n",
      " Confusion Matrix \n",
      " [[2793    0]\n",
      " [   0  126]] \n",
      "\n",
      "Results on Test Data \n",
      "\n",
      "Accuracy Score on Test Data 0.9552358113509193 \n",
      "\n",
      "              precision    recall  f1-score   support\n",
      "\n",
      "           0       0.97      0.98      0.98      1192\n",
      "           1       0.53      0.49      0.51        59\n",
      "\n",
      "    accuracy                           0.96      1251\n",
      "   macro avg       0.75      0.73      0.74      1251\n",
      "weighted avg       0.95      0.96      0.95      1251\n",
      " \n",
      "\n",
      "Roc_Score 0.7348566715959504 \n",
      "\n",
      "\n",
      " Confusion Matrix \n",
      " [[1166   26]\n",
      " [  30   29]] \n",
      "\n"
     ]
    }
   ],
   "source": [
    "DT=DecisionTreeClassifier()\n",
    "build_model(DT,X_train_sc,y_train,X_test_sc,y_test)"
   ]
  },
  {
   "cell_type": "code",
   "execution_count": 133,
   "metadata": {},
   "outputs": [
    {
     "name": "stdout",
     "output_type": "stream",
     "text": [
      "Results on Train Data \n",
      "\n",
      "Accuracy Score on Test Data 1.0 \n",
      "\n",
      "              precision    recall  f1-score   support\n",
      "\n",
      "           0       1.00      1.00      1.00      2793\n",
      "           1       1.00      1.00      1.00      2793\n",
      "\n",
      "    accuracy                           1.00      5586\n",
      "   macro avg       1.00      1.00      1.00      5586\n",
      "weighted avg       1.00      1.00      1.00      5586\n",
      " \n",
      "\n",
      "Roc_Score 1.0 \n",
      "\n",
      "\n",
      " Confusion Matrix \n",
      " [[2793    0]\n",
      " [   0 2793]] \n",
      "\n",
      "Results on Test Data \n",
      "\n",
      "Accuracy Score on Test Data 0.9488409272581935 \n",
      "\n",
      "              precision    recall  f1-score   support\n",
      "\n",
      "           0       0.98      0.96      0.97      1192\n",
      "           1       0.47      0.66      0.55        59\n",
      "\n",
      "    accuracy                           0.95      1251\n",
      "   macro avg       0.73      0.81      0.76      1251\n",
      "weighted avg       0.96      0.95      0.95      1251\n",
      " \n",
      "\n",
      "Roc_Score 0.812052098737345 \n",
      "\n",
      "\n",
      " Confusion Matrix \n",
      " [[1148   44]\n",
      " [  20   39]] \n",
      "\n"
     ]
    }
   ],
   "source": [
    "DT=DecisionTreeClassifier()\n",
    "build_model(DT,X_train_smt,y_train_smt,X_test_sc,y_test)"
   ]
  },
  {
   "cell_type": "code",
   "execution_count": 134,
   "metadata": {},
   "outputs": [
    {
     "name": "stdout",
     "output_type": "stream",
     "text": [
      "Results on Train Data \n",
      "\n",
      "Accuracy Score on Test Data 1.0 \n",
      "\n",
      "              precision    recall  f1-score   support\n",
      "\n",
      "           0       1.00      1.00      1.00      2793\n",
      "           1       1.00      1.00      1.00      2793\n",
      "\n",
      "    accuracy                           1.00      5586\n",
      "   macro avg       1.00      1.00      1.00      5586\n",
      "weighted avg       1.00      1.00      1.00      5586\n",
      " \n",
      "\n",
      "Roc_Score 1.0 \n",
      "\n",
      "\n",
      " Confusion Matrix \n",
      " [[2793    0]\n",
      " [   0 2793]] \n",
      "\n",
      "Results on Test Data \n",
      "\n",
      "Accuracy Score on Test Data 0.95603517186251 \n",
      "\n",
      "              precision    recall  f1-score   support\n",
      "\n",
      "           0       0.97      0.98      0.98      1192\n",
      "           1       0.55      0.37      0.44        59\n",
      "\n",
      "    accuracy                           0.96      1251\n",
      "   macro avg       0.76      0.68      0.71      1251\n",
      "weighted avg       0.95      0.96      0.95      1251\n",
      " \n",
      "\n",
      "Roc_Score 0.9583878398361961 \n",
      "\n",
      "\n",
      " Confusion Matrix \n",
      " [[1174   18]\n",
      " [  37   22]] \n",
      "\n"
     ]
    }
   ],
   "source": [
    "RF=RandomForestClassifier()\n",
    "build_model(RF,X_train_smt,y_train_smt,X_test_sc,y_test)"
   ]
  },
  {
   "cell_type": "code",
   "execution_count": 135,
   "metadata": {},
   "outputs": [
    {
     "name": "stdout",
     "output_type": "stream",
     "text": [
      "Results on Train Data \n",
      "\n",
      "Accuracy Score on Test Data 1.0 \n",
      "\n",
      "              precision    recall  f1-score   support\n",
      "\n",
      "           0       1.00      1.00      1.00      2793\n",
      "           1       1.00      1.00      1.00       126\n",
      "\n",
      "    accuracy                           1.00      2919\n",
      "   macro avg       1.00      1.00      1.00      2919\n",
      "weighted avg       1.00      1.00      1.00      2919\n",
      " \n",
      "\n",
      "Roc_Score 1.0 \n",
      "\n",
      "\n",
      " Confusion Matrix \n",
      " [[2793    0]\n",
      " [   0  126]] \n",
      "\n",
      "Results on Test Data \n",
      "\n",
      "Accuracy Score on Test Data 0.95603517186251 \n",
      "\n",
      "              precision    recall  f1-score   support\n",
      "\n",
      "           0       0.96      0.99      0.98      1192\n",
      "           1       0.60      0.20      0.30        59\n",
      "\n",
      "    accuracy                           0.96      1251\n",
      "   macro avg       0.78      0.60      0.64      1251\n",
      "weighted avg       0.94      0.96      0.95      1251\n",
      " \n",
      "\n",
      "Roc_Score 0.9613809577977478 \n",
      "\n",
      "\n",
      " Confusion Matrix \n",
      " [[1184    8]\n",
      " [  47   12]] \n",
      "\n"
     ]
    }
   ],
   "source": [
    "RF=RandomForestClassifier()\n",
    "build_model(RF,X_train_sc,y_train,X_test_sc,y_test)"
   ]
  },
  {
   "cell_type": "code",
   "execution_count": 138,
   "metadata": {},
   "outputs": [
    {
     "name": "stdout",
     "output_type": "stream",
     "text": [
      "Results on Train Data \n",
      "\n",
      "Accuracy Score on Train Data 0.9705378554299418 \n",
      "\n",
      "              precision    recall  f1-score   support\n",
      "\n",
      "           0       0.98      0.99      0.98      2793\n",
      "           1       0.73      0.51      0.60       126\n",
      "\n",
      "    accuracy                           0.97      2919\n",
      "   macro avg       0.85      0.75      0.79      2919\n",
      "weighted avg       0.97      0.97      0.97      2919\n",
      " \n",
      "\n",
      "Roc_Score 0.9833640223006496 \n",
      "\n",
      "\n",
      " Confusion Matrix \n",
      " [[2769   24]\n",
      " [  62   64]] \n",
      "\n",
      "Results on Test Data \n",
      "\n",
      "Accuracy Score on Test Data 0.9576338928856915 \n",
      "\n",
      "              precision    recall  f1-score   support\n",
      "\n",
      "           0       0.97      0.99      0.98      1192\n",
      "           1       0.58      0.37      0.45        59\n",
      "\n",
      "    accuracy                           0.96      1251\n",
      "   macro avg       0.77      0.68      0.72      1251\n",
      "weighted avg       0.95      0.96      0.95      1251\n",
      " \n",
      "\n",
      "Roc_Score 0.9316061881469685 \n",
      "\n",
      "\n",
      " Confusion Matrix \n",
      " [[1176   16]\n",
      " [  37   22]] \n",
      "\n"
     ]
    }
   ],
   "source": [
    "ADA=AdaBoostClassifier()\n",
    "build_model(ADA,X_train_sc,y_train,X_test_sc,y_test)"
   ]
  },
  {
   "cell_type": "code",
   "execution_count": 139,
   "metadata": {},
   "outputs": [
    {
     "name": "stdout",
     "output_type": "stream",
     "text": [
      "Results on Train Data \n",
      "\n",
      "Accuracy Score on Train Data 0.9856115107913669 \n",
      "\n",
      "              precision    recall  f1-score   support\n",
      "\n",
      "           0       0.99      1.00      0.99      2793\n",
      "           1       0.96      0.70      0.81       126\n",
      "\n",
      "    accuracy                           0.99      2919\n",
      "   macro avg       0.97      0.85      0.90      2919\n",
      "weighted avg       0.99      0.99      0.98      2919\n",
      " \n",
      "\n",
      "Roc_Score 0.9931447098471804 \n",
      "\n",
      "\n",
      " Confusion Matrix \n",
      " [[2789    4]\n",
      " [  38   88]] \n",
      "\n",
      "Results on Test Data \n",
      "\n",
      "Accuracy Score on Test Data 0.9568345323741008 \n",
      "\n",
      "              precision    recall  f1-score   support\n",
      "\n",
      "           0       0.97      0.98      0.98      1192\n",
      "           1       0.56      0.42      0.48        59\n",
      "\n",
      "    accuracy                           0.96      1251\n",
      "   macro avg       0.76      0.70      0.73      1251\n",
      "weighted avg       0.95      0.96      0.95      1251\n",
      " \n",
      "\n",
      "Roc_Score 0.9661585712660676 \n",
      "\n",
      "\n",
      " Confusion Matrix \n",
      " [[1172   20]\n",
      " [  34   25]] \n",
      "\n"
     ]
    }
   ],
   "source": [
    "GDB=GradientBoostingClassifier()\n",
    "build_model(GDB,X_train_sc,y_train,X_test_sc,y_test)"
   ]
  },
  {
   "cell_type": "code",
   "execution_count": null,
   "metadata": {},
   "outputs": [],
   "source": [
    "# gridsearchcv (Gradient boosting)"
   ]
  },
  {
   "cell_type": "code",
   "execution_count": 153,
   "metadata": {},
   "outputs": [],
   "source": [
    "base_learners=[('RF',RandomForestClassifier()),('DT',DecisionTreeClassifier())]\n",
    "stck=StackingClassifier(estimators=base_learners,final_estimator=GradientBoostingClassifier())"
   ]
  },
  {
   "cell_type": "code",
   "execution_count": 154,
   "metadata": {},
   "outputs": [
    {
     "name": "stdout",
     "output_type": "stream",
     "text": [
      "Results on Train Data \n",
      "\n",
      "Accuracy Score on Train Data 0.9688249400479616 \n",
      "\n",
      "              precision    recall  f1-score   support\n",
      "\n",
      "           0       0.97      1.00      0.98      2793\n",
      "           1       0.89      0.32      0.47       126\n",
      "\n",
      "    accuracy                           0.97      2919\n",
      "   macro avg       0.93      0.66      0.73      2919\n",
      "weighted avg       0.97      0.97      0.96      2919\n",
      " \n",
      "\n",
      "Roc_Score 0.9705073340948744 \n",
      "\n",
      "\n",
      " Confusion Matrix \n",
      " [[2788    5]\n",
      " [  86   40]] \n",
      "\n",
      "Results on Test Data \n",
      "\n",
      "Accuracy Score on Test Data 0.9488409272581935 \n",
      "\n",
      "              precision    recall  f1-score   support\n",
      "\n",
      "           0       0.96      0.99      0.97      1192\n",
      "           1       0.41      0.19      0.26        59\n",
      "\n",
      "    accuracy                           0.95      1251\n",
      "   macro avg       0.68      0.59      0.61      1251\n",
      "weighted avg       0.93      0.95      0.94      1251\n",
      " \n",
      "\n",
      "Roc_Score 0.9414315777499717 \n",
      "\n",
      "\n",
      " Confusion Matrix \n",
      " [[1176   16]\n",
      " [  48   11]] \n",
      "\n"
     ]
    }
   ],
   "source": [
    "build_model(stck,X_train_sc,y_train,X_test_sc,y_test)"
   ]
  },
  {
   "cell_type": "code",
   "execution_count": 162,
   "metadata": {},
   "outputs": [],
   "source": [
    "scores=cross_val_score(estimator=GradientBoostingClassifier(),X=X_train_sc,y=y_train,cv=10,scoring='roc_auc')"
   ]
  },
  {
   "cell_type": "code",
   "execution_count": 163,
   "metadata": {},
   "outputs": [
    {
     "data": {
      "text/plain": [
       "array([0.91071429, 0.96904762, 0.97410714, 0.98979873, 0.90515578,\n",
       "       0.97270471, 0.9127378 , 0.97187758, 0.94913151, 0.96863799])"
      ]
     },
     "execution_count": 163,
     "metadata": {},
     "output_type": "execute_result"
    }
   ],
   "source": [
    "scores"
   ]
  },
  {
   "cell_type": "code",
   "execution_count": 164,
   "metadata": {},
   "outputs": [
    {
     "data": {
      "text/plain": [
       "0.0008755826399115315"
      ]
     },
     "execution_count": 164,
     "metadata": {},
     "output_type": "execute_result"
    }
   ],
   "source": [
    "np.var(scores)"
   ]
  },
  {
   "cell_type": "code",
   "execution_count": null,
   "metadata": {},
   "outputs": [],
   "source": []
  }
 ],
 "metadata": {
  "kernelspec": {
   "display_name": "Python 3 (ipykernel)",
   "language": "python",
   "name": "python3"
  },
  "language_info": {
   "codemirror_mode": {
    "name": "ipython",
    "version": 3
   },
   "file_extension": ".py",
   "mimetype": "text/x-python",
   "name": "python",
   "nbconvert_exporter": "python",
   "pygments_lexer": "ipython3",
   "version": "3.9.6"
  }
 },
 "nbformat": 4,
 "nbformat_minor": 4
}
